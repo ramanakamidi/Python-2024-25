{
  "nbformat": 4,
  "nbformat_minor": 0,
  "metadata": {
    "colab": {
      "provenance": [],
      "authorship_tag": "ABX9TyOniVa0eca6TNXiFq9JptVt",
      "include_colab_link": true
    },
    "kernelspec": {
      "name": "python3",
      "display_name": "Python 3"
    },
    "language_info": {
      "name": "python"
    }
  },
  "cells": [
    {
      "cell_type": "markdown",
      "metadata": {
        "id": "view-in-github",
        "colab_type": "text"
      },
      "source": [
        "<a href=\"https://colab.research.google.com/github/ramanakamidi/Python-2024-25/blob/main/2205A21019_A9.ipynb\" target=\"_parent\"><img src=\"https://colab.research.google.com/assets/colab-badge.svg\" alt=\"Open In Colab\"/></a>"
      ]
    },
    {
      "cell_type": "code",
      "execution_count": 9,
      "metadata": {
        "colab": {
          "base_uri": "https://localhost:8080/"
        },
        "id": "lglkdmR3kee7",
        "outputId": "89c695ab-4b0d-4e67-f00b-783c2226cc25"
      },
      "outputs": [
        {
          "output_type": "stream",
          "name": "stdout",
          "text": [
            "Enter Hall Ticket No.: 105\n",
            "KINDERLAND SCHOOL\n",
            "Score Card\n",
            "Roll No.: 105\n",
            "Telugu: 23\n",
            "English: 34\n",
            "Hindi: 45\n",
            "Maths: 56\n",
            "Science: 76\n",
            "Social: 87\n",
            "Results Status\n",
            "Fail\n"
          ]
        }
      ],
      "source": [
        "import numpy as np\n",
        "\n",
        "# Define the marks data as a NumPy array\n",
        "marks = np.array([[101, 35, 98, 43, 65, 78, 96],\n",
        "                 [102, 87, 45, 98, 65, 34, 78],\n",
        "                 [103, 45, 26, 78, 45, 67, 34],\n",
        "                 [104, 45, 56, 67, 78, 89, 90],\n",
        "                 [105, 23, 34, 45, 56, 76, 87]])\n",
        "\n",
        "# Get the roll number from the user\n",
        "roll_no = int(input(\"Enter Hall Ticket No.: \"))\n",
        "\n",
        "# Find the index of the student's marks in the array\n",
        "student_index = np.where(marks[:, 0] == roll_no)[0][0]\n",
        "\n",
        "# Extract the student's marks\n",
        "student_marks = marks[student_index, 1:]\n",
        "\n",
        "# Check if the student passed in all subjects\n",
        "if np.all(student_marks >= 35):\n",
        "    # Calculate the percentage\n",
        "    percentage = np.mean(student_marks)\n",
        "    print(\"KINDERLAND SCHOOL\")\n",
        "    print(\"Score Card\")\n",
        "    print(\"Roll No.:\", roll_no)\n",
        "    print(\"Telugu:\", student_marks[0])\n",
        "    print(\"English:\", student_marks[1])\n",
        "    print(\"Hindi:\", student_marks[2])\n",
        "    print(\"Maths:\", student_marks[3])\n",
        "    print(\"Science:\", student_marks[4])\n",
        "    print(\"Social:\", student_marks[5])\n",
        "    print(\"Results Status\")\n",
        "    print(\"Pass\")\n",
        "    print(\"Percentage of marks:\", percentage)\n",
        "else:\n",
        "    print(\"KINDERLAND SCHOOL\")\n",
        "    print(\"Score Card\")\n",
        "    print(\"Roll No.:\", roll_no)\n",
        "    print(\"Telugu:\", student_marks[0])\n",
        "    print(\"English:\", student_marks[1])\n",
        "    print(\"Hindi:\", student_marks[2])\n",
        "    print(\"Maths:\", student_marks[3])\n",
        "    print(\"Science:\", student_marks[4])\n",
        "    print(\"Social:\", student_marks[5])\n",
        "    print(\"Results Status\")\n",
        "    print(\"Fail\")"
      ]
    }
  ]
}
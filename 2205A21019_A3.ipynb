{
  "nbformat": 4,
  "nbformat_minor": 0,
  "metadata": {
    "colab": {
      "provenance": [],
      "authorship_tag": "ABX9TyMAaxvlNKW8vud6mDVH1jZJ",
      "include_colab_link": true
    },
    "kernelspec": {
      "name": "python3",
      "display_name": "Python 3"
    },
    "language_info": {
      "name": "python"
    }
  },
  "cells": [
    {
      "cell_type": "markdown",
      "metadata": {
        "id": "view-in-github",
        "colab_type": "text"
      },
      "source": [
        "<a href=\"https://colab.research.google.com/github/ramanakamidi/Python-2024-25/blob/main/2205A21019_A3.ipynb\" target=\"_parent\"><img src=\"https://colab.research.google.com/assets/colab-badge.svg\" alt=\"Open In Colab\"/></a>"
      ]
    },
    {
      "cell_type": "code",
      "execution_count": 18,
      "metadata": {
        "colab": {
          "base_uri": "https://localhost:8080/"
        },
        "id": "oZLuqS7AWTy3",
        "outputId": "3f1ba00b-f094-4b0f-a227-ab4f132d80a0"
      },
      "outputs": [
        {
          "output_type": "stream",
          "name": "stdout",
          "text": [
            "enter the open ckt test voltage in volts=220\n",
            "enter the open ckt test current in amps=2\n",
            "enter the open ckt test power in watts=250\n",
            "enter the short ckt test voltage in volts=75\n",
            "enter the short ckt test current in amps=10\n",
            "enter the short ckt test power in watts=500\n",
            "enter the transformer rating in voltampere=5000\n",
            "enter the power factor of the transformer=1\n",
            "enter the loading of the transformer=1\n",
            "efficiency= 86.95652173913044\n",
            "ro= 193.6\n",
            "xo= 133.67309875319802\n",
            "rsc= 5.0\n",
            "xsc= 2.23606797749979\n",
            "xcu= 500.0\n"
          ]
        }
      ],
      "source": [
        "import transformer\n",
        "vo=float(input(\"enter the open ckt test voltage in volts=\"))\n",
        "io=float(input(\"enter the open ckt test current in amps=\"))\n",
        "wo=float(input(\"enter the open ckt test power in watts=\"))\n",
        "vsc=float(input(\"enter the short ckt test voltage in volts=\"))\n",
        "isc=float(input(\"enter the short ckt test current in amps=\"))\n",
        "wsc=float(input(\"enter the short ckt test power in watts=\"))\n",
        "r=float(input(\"enter the transformer rating in voltampere=\"))\n",
        "pf=float(input(\"enter the power factor of the transformer=\"))\n",
        "x=float(input(\"enter the loading of the transformer=\"))\n",
        "[ro,xo]=transformer.oc(vo,io,wo)\n",
        "[rsc,xsc]=transformer.sc(vsc,isc,wsc)\n",
        "[effi,xcu]=transformer.eff(r,wo,wsc,x,pf)\n",
        "print(\"efficiency=\",effi)\n",
        "print(\"ro=\",ro)\n",
        "print(\"xo=\",xo)\n",
        "print(\"rsc=\",rsc)\n",
        "print(\"xsc=\",xsc)\n",
        "print(\"xcu=\",xcu)"
      ]
    }
  ]
}
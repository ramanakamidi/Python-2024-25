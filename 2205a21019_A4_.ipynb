{
  "nbformat": 4,
  "nbformat_minor": 0,
  "metadata": {
    "colab": {
      "provenance": [],
      "authorship_tag": "ABX9TyMOevBN987TK5C8pbcHs2Wi",
      "include_colab_link": true
    },
    "kernelspec": {
      "name": "python3",
      "display_name": "Python 3"
    },
    "language_info": {
      "name": "python"
    }
  },
  "cells": [
    {
      "cell_type": "markdown",
      "metadata": {
        "id": "view-in-github",
        "colab_type": "text"
      },
      "source": [
        "<a href=\"https://colab.research.google.com/github/ramanakamidi/Python-2024-25/blob/main/2205a21019_A4_.ipynb\" target=\"_parent\"><img src=\"https://colab.research.google.com/assets/colab-badge.svg\" alt=\"Open In Colab\"/></a>"
      ]
    },
    {
      "cell_type": "code",
      "execution_count": 2,
      "metadata": {
        "colab": {
          "base_uri": "https://localhost:8080/"
        },
        "id": "UMxGLloYj4x5",
        "outputId": "d6005bfd-3170-44af-977a-f49da974fa45"
      },
      "outputs": [
        {
          "output_type": "stream",
          "name": "stdout",
          "text": [
            "enter the current units:200\n",
            "enter the previous units:150\n",
            "enter customer type  0(Res) or 1(Com) or 2(Adv):0\n",
            "TGNPDCL\n",
            "2024-09-03 11:07:02.727553\n",
            "Present KWH : 200\n",
            "Previous KWH : 150\n",
            "Units Consumed : 50\n",
            "Enery Charges : 155.0\n",
            "Fixed Charges : 10\n",
            "Customer Charges : 70\n",
            "Electricity Duty Charges : 3.0\n",
            "Bill Amount: 238.0\n"
          ]
        }
      ],
      "source": [
        "cu=int(input(\"enter the current units:\"))\n",
        "pu=int(input(\"enter the previous units:\"))\n",
        "tc=int(input('enter customer type  0(Res) or 1(Com) or 2(Adv):'))\n",
        "u=cu-pu\n",
        "count=0\n",
        "ed=0.06*u\n",
        "\n",
        "if(tc==0):\n",
        "  if(u<100):\n",
        "    if(u<50):\n",
        "      ec=1.95*u\n",
        "      fc=10\n",
        "      cc=40\n",
        "    else:\n",
        "      ec=3.10*u\n",
        "      fc=10\n",
        "      cc=70\n",
        "  else:\n",
        "    if(u>100 and u<=200):\n",
        "      ec=100*3.40+(u-100)*4.8\n",
        "      fc=10\n",
        "      cc=90\n",
        "    else:\n",
        "      print(\"it is not supported for heavy usage customers\")\n",
        "      count+=1\n",
        "if(tc==1):\n",
        "  if(u<50):\n",
        "    ec=7*u\n",
        "    fc=60\n",
        "    cc=50\n",
        "  else:\n",
        "    print(\"this application is not supported\")\n",
        "    count+=1\n",
        "if(tc==2):\n",
        "  ec=13*u\n",
        "  fc=70\n",
        "  cc=160\n",
        "bill_amount=ec+cc+fc+ed\n",
        "if(count==0):\n",
        "  from datetime import datetime\n",
        "  print(\"TGNPDCL\")\n",
        "  now=datetime.now()\n",
        "  print(now)\n",
        "  print(\"Present KWH :\",cu)\n",
        "  print(\"Previous KWH :\",pu)\n",
        "  print(\"Units Consumed :\",u)\n",
        "  print(\"Enery Charges :\",ec)\n",
        "  print(\"Fixed Charges :\",fc)\n",
        "  print(\"Customer Charges :\",cc)\n",
        "  print(\"Electricity Duty Charges :\",ed)\n",
        "  print(\"Bill Amount:\",bill_amount)"
      ]
    }
  ]
}
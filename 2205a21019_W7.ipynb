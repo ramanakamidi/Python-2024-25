{
  "nbformat": 4,
  "nbformat_minor": 0,
  "metadata": {
    "colab": {
      "provenance": [],
      "authorship_tag": "ABX9TyOMQOOIWJEEwvdhicdHiqv2",
      "include_colab_link": true
    },
    "kernelspec": {
      "name": "python3",
      "display_name": "Python 3"
    },
    "language_info": {
      "name": "python"
    }
  },
  "cells": [
    {
      "cell_type": "markdown",
      "metadata": {
        "id": "view-in-github",
        "colab_type": "text"
      },
      "source": [
        "<a href=\"https://colab.research.google.com/github/ramanakamidi/Python-2024-25/blob/main/2205a21019_W7.ipynb\" target=\"_parent\"><img src=\"https://colab.research.google.com/assets/colab-badge.svg\" alt=\"Open In Colab\"/></a>"
      ]
    },
    {
      "cell_type": "code",
      "execution_count": 12,
      "metadata": {
        "colab": {
          "base_uri": "https://localhost:8080/"
        },
        "id": "KJpIv3QoZtM6",
        "outputId": "3854a7b5-e5cc-4261-ac3a-e084aa93fafa"
      },
      "outputs": [
        {
          "output_type": "stream",
          "name": "stdout",
          "text": [
            "enter receiving end voltage220000\n",
            "enter resistance per phase per km0.15\n",
            "enter inductance per phase per km0.0013263\n",
            "enter length of the line40\n",
            "enter power factor0.8\n",
            "enter apparent power381000000\n",
            "0:lagging 1:leading1\n",
            "voltage Reg= -3.168311334685659\n",
            "Efficiency 94.42520606740479\n"
          ]
        }
      ],
      "source": [
        "import math as mt\n",
        "vr=float(input('enter receiving end voltage'))\n",
        "r=float(input('enter resistance per phase per km'))\n",
        "l=float(input('enter inductance per phase per km'))\n",
        "length=float(input('enter length of the line'))\n",
        "pf=float(input('enter power factor'))\n",
        "load=float(input('enter apparent power'))\n",
        "type_pf=int(input('0:lagging 1:leading'))\n",
        "vr_phase=vr/mt.sqrt(3)\n",
        "R=r*length\n",
        "L=l*length\n",
        "X=2*3.14*50*L\n",
        "Z=complex(R,X)\n",
        "P=load*pf\n",
        "Q=load*mt.sqrt(1-pf**2)\n",
        "if(type_pf==0):\n",
        "  S=complex(P,Q)\n",
        "else:\n",
        "  S=complex(P,-Q)\n",
        "\n",
        "IR=(S.conjugate())/(3*vr_phase)\n",
        "VS=vr_phase+Z*IR\n",
        "voltage_regulation=(abs(VS)-vr_phase)*100/vr_phase\n",
        "print('voltage Reg=',voltage_regulation)\n",
        "Ssend=3*VS*IR.conjugate()\n",
        "Psend=Ssend.real\n",
        "eff=P*100/Psend\n",
        "print('Efficiency',eff)"
      ]
    }
  ]
}
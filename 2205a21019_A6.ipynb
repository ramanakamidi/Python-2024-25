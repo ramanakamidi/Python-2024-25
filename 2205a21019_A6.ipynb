{
  "nbformat": 4,
  "nbformat_minor": 0,
  "metadata": {
    "colab": {
      "provenance": [],
      "authorship_tag": "ABX9TyPWKdxXE82HX4WkHlmkkt5v",
      "include_colab_link": true
    },
    "kernelspec": {
      "name": "python3",
      "display_name": "Python 3"
    },
    "language_info": {
      "name": "python"
    }
  },
  "cells": [
    {
      "cell_type": "markdown",
      "metadata": {
        "id": "view-in-github",
        "colab_type": "text"
      },
      "source": [
        "<a href=\"https://colab.research.google.com/github/ramanakamidi/Python-2024-25/blob/main/2205a21019_A6.ipynb\" target=\"_parent\"><img src=\"https://colab.research.google.com/assets/colab-badge.svg\" alt=\"Open In Colab\"/></a>"
      ]
    },
    {
      "cell_type": "code",
      "source": [
        "n=int(input(\"enter the number of rows:\"))\n",
        "for i in range(0,n+1):\n",
        "  for j in range(n,0,-1):\n",
        "    if i<j:\n",
        "      print(\"+\",end=\"\")\n",
        "    else:\n",
        "      print(\" \",end=\"\")\n",
        "  print()"
      ],
      "metadata": {
        "colab": {
          "base_uri": "https://localhost:8080/"
        },
        "id": "ru6sKzX3Z9NT",
        "outputId": "17dbf322-4387-4a90-84fc-0e893ca2bb44"
      },
      "execution_count": 45,
      "outputs": [
        {
          "output_type": "stream",
          "name": "stdout",
          "text": [
            "enter the number of rows:5\n",
            "+++++\n",
            "++++ \n",
            "+++  \n",
            "++   \n",
            "+    \n",
            "     \n"
          ]
        }
      ]
    },
    {
      "cell_type": "code",
      "source": [
        "n=int(input(\"enter the number of rows:\"))\n",
        "for i in range(0,n+1):\n",
        "  for j in range(n+1,0,-1):\n",
        "    if j<=i:\n",
        "      print(\"*\",end=\"\")\n",
        "    else:\n",
        "      print(\" \",end=\"\")\n",
        "  print()"
      ],
      "metadata": {
        "colab": {
          "base_uri": "https://localhost:8080/"
        },
        "id": "-v78FbCsmbfA",
        "outputId": "fd31501d-2299-421f-b6ee-0d5916a8965a"
      },
      "execution_count": 46,
      "outputs": [
        {
          "output_type": "stream",
          "name": "stdout",
          "text": [
            "enter the number of rows:5\n",
            "      \n",
            "     *\n",
            "    **\n",
            "   ***\n",
            "  ****\n",
            " *****\n"
          ]
        }
      ]
    },
    {
      "cell_type": "code",
      "source": [
        "n=int(input(\"enter the number of rows:\"))\n",
        "for i in range(n):\n",
        "  for j in range(n):\n",
        "    if j<=i:\n",
        "      print(\"*\",end=\"\")\n",
        "    else:\n",
        "      print(\" \",end=\"\")\n",
        "  print()"
      ],
      "metadata": {
        "colab": {
          "base_uri": "https://localhost:8080/"
        },
        "id": "OtoRThxYmZCJ",
        "outputId": "bdaa1bac-12ec-4c1b-a1a8-4a20fab95b92"
      },
      "execution_count": 47,
      "outputs": [
        {
          "output_type": "stream",
          "name": "stdout",
          "text": [
            "enter the number of rows:5\n",
            "*    \n",
            "**   \n",
            "***  \n",
            "**** \n",
            "*****\n"
          ]
        }
      ]
    },
    {
      "cell_type": "code",
      "source": [
        "n=int(input(\"enter the number of rows:\"))\n",
        "for i in range(n):\n",
        "  for j in range(n):\n",
        "    if i<=j:\n",
        "      print(\"+\",end=\"\")\n",
        "    else:\n",
        "      print(\" \",end=\"\")\n",
        "  print()"
      ],
      "metadata": {
        "colab": {
          "base_uri": "https://localhost:8080/"
        },
        "id": "FhSle6a3mjdQ",
        "outputId": "eed65d97-e010-4b3a-89d7-943f71320639"
      },
      "execution_count": 48,
      "outputs": [
        {
          "output_type": "stream",
          "name": "stdout",
          "text": [
            "enter the number of rows:5\n",
            "+++++\n",
            " ++++\n",
            "  +++\n",
            "   ++\n",
            "    +\n"
          ]
        }
      ]
    }
  ]
}
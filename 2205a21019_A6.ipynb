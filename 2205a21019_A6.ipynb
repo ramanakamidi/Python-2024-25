{
  "nbformat": 4,
  "nbformat_minor": 0,
  "metadata": {
    "colab": {
      "provenance": [],
      "authorship_tag": "ABX9TyP8cFshbD08EcYvmIRm3pKi",
      "include_colab_link": true
    },
    "kernelspec": {
      "name": "python3",
      "display_name": "Python 3"
    },
    "language_info": {
      "name": "python"
    }
  },
  "cells": [
    {
      "cell_type": "markdown",
      "metadata": {
        "id": "view-in-github",
        "colab_type": "text"
      },
      "source": [
        "<a href=\"https://colab.research.google.com/github/ramanakamidi/Python-2024-25/blob/main/2205a21019_A6.ipynb\" target=\"_parent\"><img src=\"https://colab.research.google.com/assets/colab-badge.svg\" alt=\"Open In Colab\"/></a>"
      ]
    },
    {
      "cell_type": "code",
      "source": [
        "n=int(input(\"enter the number of rows:\"))\n",
        "for i in range(0,n+1):\n",
        "  for j in range(n,0,-1):\n",
        "    if i<j:\n",
        "      print(\"+\",end=\"\")\n",
        "    else:\n",
        "      print(\" \",end=\"\")\n",
        "  print()\n",
        "\n",
        "\n",
        "\n",
        "n=int(input(\"enter the number of rows:\"))\n",
        "for i in range(n):\n",
        "  for j in range(n):\n",
        "    if j<=i:\n",
        "      print(\"*\",end=\"\")\n",
        "    else:\n",
        "      print(\" \",end=\"\")\n",
        "  print()\n",
        "\n",
        "\n",
        "n=int(input(\"enter the number of rows:\"))\n",
        "for i in range(0,n+1):\n",
        "  for j in range(n+1,0,-1):\n",
        "    if j<=i:\n",
        "      print(\"*\",end=\"\")\n",
        "    else:\n",
        "      print(\" \",end=\"\")\n",
        "  print()\n",
        "\n",
        "\n",
        "n=int(input(\"enter the number of rows:\"))\n",
        "for i in range(n):\n",
        "  for j in range(n):\n",
        "    if i<=j:\n",
        "      print(\"+\",end=\"\")\n",
        "    else:\n",
        "      print(\" \",end=\"\")\n",
        "  print()\n",
        "\n",
        "\n",
        "\n"
      ],
      "metadata": {
        "colab": {
          "base_uri": "https://localhost:8080/"
        },
        "id": "ru6sKzX3Z9NT",
        "outputId": "9ea2bad6-81cc-40ae-e39b-e68e5e4fc452"
      },
      "execution_count": 43,
      "outputs": [
        {
          "output_type": "stream",
          "name": "stdout",
          "text": [
            "enter the number of rows:5\n",
            "+++++\n",
            "++++ \n",
            "+++  \n",
            "++   \n",
            "+    \n",
            "     \n",
            "enter the number of rows:5\n",
            "*    \n",
            "**   \n",
            "***  \n",
            "**** \n",
            "*****\n",
            "enter the number of rows:5\n",
            "      \n",
            "     *\n",
            "    **\n",
            "   ***\n",
            "  ****\n",
            " *****\n",
            "enter the number of rows:5\n",
            "+++++\n",
            " ++++\n",
            "  +++\n",
            "   ++\n",
            "    +\n"
          ]
        }
      ]
    }
  ]
}